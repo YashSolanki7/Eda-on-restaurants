{
 "cells": [
  {
   "cell_type": "code",
   "execution_count": 1,
   "id": "ecc02431",
   "metadata": {},
   "outputs": [
    {
     "name": "stdout",
     "output_type": "stream",
     "text": [
      "Requirement already satisfied: pyodbc in c:\\users\\yashs\\anaconda3\\lib\\site-packages (4.0.34)\n"
     ]
    }
   ],
   "source": [
    "#install pre requisites if not already installed in order to run this notebook\n",
    "!pip install pyodbc\n",
    "!pip install pandas\n",
    "!pip install numpy\n",
    "\n"
   ]
  },
  {
   "cell_type": "code",
   "execution_count": 3,
   "id": "0e8e6119",
   "metadata": {},
   "outputs": [],
   "source": [
    "#import libraries to perfom reading and cleaning operations in this notebook\n",
    "import pyodbc\n",
    "import pandas as pd\n",
    "import numpy as np\n",
    "import matplotlib.pyplot as plt "
   ]
  },
  {
   "cell_type": "code",
   "execution_count": 18,
   "id": "dde5a6bb",
   "metadata": {},
   "outputs": [
    {
     "name": "stdout",
     "output_type": "stream",
     "text": [
      "Connected\n"
     ]
    }
   ],
   "source": [
    "#Creating a sql connection [azure sql database], {need to define client ip in azure to access}\n",
    "conn = pyodbc.connect(\n",
    "        'DRIVER={SQL Server};SERVER=yashsql.database.windows.net;DATABASE=CC_FUEL;UID=yash;PWD={HIDDDDEEENNNNNN};Trusted_connection=no')\n",
    "cursor = conn.cursor()\n",
    "print(\"Connected\")"
   ]
  },
  {
   "cell_type": "markdown",
   "id": "dc0f4a87",
   "metadata": {},
   "source": [
    "## Question 1\n"
   ]
  },
  {
   "cell_type": "code",
   "execution_count": 5,
   "id": "aefc488f",
   "metadata": {
    "scrolled": true
   },
   "outputs": [
    {
     "name": "stdout",
     "output_type": "stream",
     "text": [
      "    restaurant                                       item  calories  cal_fat  \\\n",
      "0    Mcdonalds           Artisan Grilled Chicken Sandwich       380       60   \n",
      "1    Mcdonalds             Single Bacon Smokehouse Burger       840      410   \n",
      "2    Mcdonalds             Double Bacon Smokehouse Burger      1130      600   \n",
      "3    Mcdonalds  Grilled Bacon Smokehouse Chicken Sandwich       750      280   \n",
      "4    Mcdonalds   Crispy Bacon Smokehouse Chicken Sandwich       920      410   \n",
      "..         ...                                        ...       ...      ...   \n",
      "510  Taco Bell             Spicy Triple Double Crunchwrap       780      340   \n",
      "511  Taco Bell                Express Taco Salad w/ Chips       580      260   \n",
      "512  Taco Bell                     Fiesta Taco Salad-Beef       780      380   \n",
      "513  Taco Bell                  Fiesta Taco Salad-Chicken       720      320   \n",
      "514  Taco Bell                    Fiesta Taco Salad-Steak       720      320   \n",
      "\n",
      "     total_fat  sat_fat  trans_fat  cholesterol  sodium  total_carb  fiber  \\\n",
      "0            7      2.0        0.0           95    1110          44    3.0   \n",
      "1           45     17.0        1.5          130    1580          62    2.0   \n",
      "2           67     27.0        3.0          220    1920          63    3.0   \n",
      "3           31     10.0        0.5          155    1940          62    2.0   \n",
      "4           45     12.0        0.5          120    1980          81    4.0   \n",
      "..         ...      ...        ...          ...     ...         ...    ...   \n",
      "510         38     10.0        0.5           50    1850          87    9.0   \n",
      "511         29      9.0        1.0           60    1270          59    8.0   \n",
      "512         42     10.0        1.0           60    1340          74   11.0   \n",
      "513         35      7.0        0.0           70    1260          70    8.0   \n",
      "514         36      8.0        1.0           55    1340          70    8.0   \n",
      "\n",
      "     sugar  protein  vit_a  vit_c  calcium  salad  \n",
      "0       11     37.0    4.0   20.0     20.0  Other  \n",
      "1       18     46.0    6.0   20.0     20.0  Other  \n",
      "2       18     70.0   10.0   20.0     50.0  Other  \n",
      "3       18     55.0    6.0   25.0     20.0  Other  \n",
      "4       18     46.0    6.0   20.0     20.0  Other  \n",
      "..     ...      ...    ...    ...      ...    ...  \n",
      "510      8     23.0   20.0   10.0     25.0  Other  \n",
      "511      7     23.0    NaN    NaN      NaN  Other  \n",
      "512      7     26.0    NaN    NaN      NaN  Other  \n",
      "513      8     32.0    NaN    NaN      NaN  Other  \n",
      "514      8     28.0    NaN    NaN      NaN  Other  \n",
      "\n",
      "[515 rows x 17 columns]\n"
     ]
    }
   ],
   "source": [
    "#reading the csv file\n",
    "df = pd.read_csv('fastfood.csv')\n",
    "print(df)"
   ]
  },
  {
   "cell_type": "code",
   "execution_count": 6,
   "id": "d9abedfd",
   "metadata": {},
   "outputs": [],
   "source": [
    "#replacing and filling NaN values\n",
    "df.replace({np.inf: np.nan, -np.inf: np.nan}, inplace=True)"
   ]
  },
  {
   "cell_type": "code",
   "execution_count": 7,
   "id": "0c63a0e2",
   "metadata": {},
   "outputs": [],
   "source": [
    "df = df.fillna(0)"
   ]
  },
  {
   "cell_type": "code",
   "execution_count": 8,
   "id": "09b6e65a",
   "metadata": {},
   "outputs": [
    {
     "name": "stdout",
     "output_type": "stream",
     "text": [
      "    restaurant                                       item  calories  cal_fat  \\\n",
      "0    Mcdonalds           Artisan Grilled Chicken Sandwich       380       60   \n",
      "1    Mcdonalds             Single Bacon Smokehouse Burger       840      410   \n",
      "2    Mcdonalds             Double Bacon Smokehouse Burger      1130      600   \n",
      "3    Mcdonalds  Grilled Bacon Smokehouse Chicken Sandwich       750      280   \n",
      "4    Mcdonalds   Crispy Bacon Smokehouse Chicken Sandwich       920      410   \n",
      "..         ...                                        ...       ...      ...   \n",
      "510  Taco Bell             Spicy Triple Double Crunchwrap       780      340   \n",
      "511  Taco Bell                Express Taco Salad w/ Chips       580      260   \n",
      "512  Taco Bell                     Fiesta Taco Salad-Beef       780      380   \n",
      "513  Taco Bell                  Fiesta Taco Salad-Chicken       720      320   \n",
      "514  Taco Bell                    Fiesta Taco Salad-Steak       720      320   \n",
      "\n",
      "     total_fat  sat_fat  trans_fat  cholesterol  sodium  total_carb  fiber  \\\n",
      "0            7      2.0        0.0           95    1110          44    3.0   \n",
      "1           45     17.0        1.5          130    1580          62    2.0   \n",
      "2           67     27.0        3.0          220    1920          63    3.0   \n",
      "3           31     10.0        0.5          155    1940          62    2.0   \n",
      "4           45     12.0        0.5          120    1980          81    4.0   \n",
      "..         ...      ...        ...          ...     ...         ...    ...   \n",
      "510         38     10.0        0.5           50    1850          87    9.0   \n",
      "511         29      9.0        1.0           60    1270          59    8.0   \n",
      "512         42     10.0        1.0           60    1340          74   11.0   \n",
      "513         35      7.0        0.0           70    1260          70    8.0   \n",
      "514         36      8.0        1.0           55    1340          70    8.0   \n",
      "\n",
      "     sugar  protein  vit_a  vit_c  calcium  salad  \n",
      "0       11     37.0    4.0   20.0     20.0  Other  \n",
      "1       18     46.0    6.0   20.0     20.0  Other  \n",
      "2       18     70.0   10.0   20.0     50.0  Other  \n",
      "3       18     55.0    6.0   25.0     20.0  Other  \n",
      "4       18     46.0    6.0   20.0     20.0  Other  \n",
      "..     ...      ...    ...    ...      ...    ...  \n",
      "510      8     23.0   20.0   10.0     25.0  Other  \n",
      "511      7     23.0    0.0    0.0      0.0  Other  \n",
      "512      7     26.0    0.0    0.0      0.0  Other  \n",
      "513      8     32.0    0.0    0.0      0.0  Other  \n",
      "514      8     28.0    0.0    0.0      0.0  Other  \n",
      "\n",
      "[515 rows x 17 columns]\n"
     ]
    }
   ],
   "source": [
    "print(df)"
   ]
  },
  {
   "cell_type": "code",
   "execution_count": 12,
   "id": "168297be",
   "metadata": {},
   "outputs": [],
   "source": [
    "\n",
    "# Creating a table in azure sql database #table-name = fast_food\n",
    "sql_create_table = \"CREATE TABLE fast_food (restaurant VARCHAR(100),item VARCHAR(100),calories INT,cal_fat  INT,total_fat  INT,sat_fat FLOAT,trans_fat FLOAT,cholesterol  INT,sodium  INT,total_carb  INT,fiber  FLOAT,sugar  INT,protein  FLOAT,vit_a  FLOAT,vit_c FLOAT,calcium FLOAT,salad  VARCHAR(100))\"\n",
    "\n",
    "cursor = conn.cursor()\n",
    "cursor.execute(sql_create_table)\n",
    "conn.commit()\n",
    "\n"
   ]
  },
  {
   "cell_type": "code",
   "execution_count": 13,
   "id": "525bf1b9",
   "metadata": {},
   "outputs": [
    {
     "name": "stdout",
     "output_type": "stream",
     "text": [
      "Data inserted successfully!\n"
     ]
    }
   ],
   "source": [
    "#Do not run this as this will duplicate the data in the table unless dropping table and recreating it\n",
    "\n",
    "# Inserting the data into the table -fast_food from the csv\n",
    "columns = ', '.join(df.columns)\n",
    "values = ', '.join(['?' for i in range(len(df.columns))])\n",
    "sql_insert = f\"INSERT INTO fast_food ({columns}) VALUES ({values})\"\n",
    "\n",
    "cursor = conn.cursor()\n",
    "for row in df.itertuples(index=False):\n",
    "    cursor.execute(sql_insert, row)\n",
    "cursor.commit()\n",
    "\n",
    "\n",
    "print(\"Data inserted successfully!\")"
   ]
  },
  {
   "cell_type": "markdown",
   "id": "edb10ac5",
   "metadata": {},
   "source": [
    "## Question 2"
   ]
  },
  {
   "cell_type": "code",
   "execution_count": 14,
   "id": "59ebdbac",
   "metadata": {
    "scrolled": true
   },
   "outputs": [
    {
     "name": "stdout",
     "output_type": "stream",
     "text": [
      "    restaurant                                       item  calories  cal_fat  \\\n",
      "0    Mcdonalds           Artisan Grilled Chicken Sandwich       380       60   \n",
      "1    Mcdonalds             Single Bacon Smokehouse Burger       840      410   \n",
      "2    Mcdonalds             Double Bacon Smokehouse Burger      1130      600   \n",
      "3    Mcdonalds  Grilled Bacon Smokehouse Chicken Sandwich       750      280   \n",
      "4    Mcdonalds   Crispy Bacon Smokehouse Chicken Sandwich       920      410   \n",
      "..         ...                                        ...       ...      ...   \n",
      "510  Taco Bell             Spicy Triple Double Crunchwrap       780      340   \n",
      "511  Taco Bell                Express Taco Salad w/ Chips       580      260   \n",
      "512  Taco Bell                     Fiesta Taco Salad-Beef       780      380   \n",
      "513  Taco Bell                  Fiesta Taco Salad-Chicken       720      320   \n",
      "514  Taco Bell                    Fiesta Taco Salad-Steak       720      320   \n",
      "\n",
      "     total_fat  sat_fat  trans_fat  cholesterol  sodium  total_carb  fiber  \\\n",
      "0            7      2.0        0.0           95    1110          44    3.0   \n",
      "1           45     17.0        1.5          130    1580          62    2.0   \n",
      "2           67     27.0        3.0          220    1920          63    3.0   \n",
      "3           31     10.0        0.5          155    1940          62    2.0   \n",
      "4           45     12.0        0.5          120    1980          81    4.0   \n",
      "..         ...      ...        ...          ...     ...         ...    ...   \n",
      "510         38     10.0        0.5           50    1850          87    9.0   \n",
      "511         29      9.0        1.0           60    1270          59    8.0   \n",
      "512         42     10.0        1.0           60    1340          74   11.0   \n",
      "513         35      7.0        0.0           70    1260          70    8.0   \n",
      "514         36      8.0        1.0           55    1340          70    8.0   \n",
      "\n",
      "     sugar  protein  vit_a  vit_c  calcium  salad  \n",
      "0       11     37.0    4.0   20.0     20.0  Other  \n",
      "1       18     46.0    6.0   20.0     20.0  Other  \n",
      "2       18     70.0   10.0   20.0     50.0  Other  \n",
      "3       18     55.0    6.0   25.0     20.0  Other  \n",
      "4       18     46.0    6.0   20.0     20.0  Other  \n",
      "..     ...      ...    ...    ...      ...    ...  \n",
      "510      8     23.0   20.0   10.0     25.0  Other  \n",
      "511      7     23.0    0.0    0.0      0.0  Other  \n",
      "512      7     26.0    0.0    0.0      0.0  Other  \n",
      "513      8     32.0    0.0    0.0      0.0  Other  \n",
      "514      8     28.0    0.0    0.0      0.0  Other  \n",
      "\n",
      "[515 rows x 17 columns]\n"
     ]
    },
    {
     "name": "stderr",
     "output_type": "stream",
     "text": [
      "C:\\Users\\yashs\\Anaconda3\\lib\\site-packages\\pandas\\io\\sql.py:762: UserWarning: pandas only support SQLAlchemy connectable(engine/connection) ordatabase string URI or sqlite3 DBAPI2 connectionother DBAPI2 objects are not tested, please consider using SQLAlchemy\n",
      "  warnings.warn(\n"
     ]
    }
   ],
   "source": [
    "#Reading the data from the azure sql database\n",
    "sql_select = \"SELECT * FROM fast_food\"\n",
    "\n",
    "# Loading the data into pandas dataframe\n",
    "sql_df = pd.read_sql(sql_select, conn)\n",
    "\n",
    "\n",
    "print(sql_df)\n",
    "\n",
    "\n"
   ]
  },
  {
   "cell_type": "markdown",
   "id": "b222142f",
   "metadata": {},
   "source": [
    "## Question 3"
   ]
  },
  {
   "cell_type": "code",
   "execution_count": 19,
   "id": "9f3ffc40",
   "metadata": {},
   "outputs": [
    {
     "name": "stdout",
     "output_type": "stream",
     "text": [
      "    restaurant  avg_calories  min_calories  max_calories  avg_carbs\n",
      "0  Chick Fil-A           384            70           970         28\n",
      "1  Dairy Queen           520            20          1260         38\n",
      "2  Burger King           608           190          1550         39\n",
      "3        Arbys           532            70          1030         44\n",
      "4    Taco Bell           443           140           880         46\n",
      "5        Sonic           631           100          1350         47\n",
      "6    Mcdonalds           640           140          2430         48\n",
      "7       Subway           503            50          1160         54\n"
     ]
    }
   ],
   "source": [
    "#Calculating the average , minumum  and maximun calories for each restaurant and ordering them by restaurants having least carbs on average\n",
    "sql_question1 = \"SELECT restaurant, AVG(calories) AS avg_calories, MIN(calories) AS min_calories, MAX(calories) AS max_calories, AVG(total_carb) AS avg_carbs FROM fast_food GROUP BY restaurant ORDER BY avg_carbs ASC;\"\n",
    "sql_df1 = pd.read_sql(sql_question1, conn)\n",
    "\n",
    "\n",
    "print(sql_df1)\n",
    "\n",
    "\n"
   ]
  },
  {
   "cell_type": "markdown",
   "id": "d5872f63",
   "metadata": {},
   "source": [
    "## Question 4"
   ]
  },
  {
   "cell_type": "code",
   "execution_count": 20,
   "id": "cc212884",
   "metadata": {},
   "outputs": [
    {
     "data": {
      "image/png": "[encoded data removed]",
      "text/plain": [
       "<Figure size 640x480 with 1 Axes>"
      ]
     },
     "metadata": {},
     "output_type": "display_data"
    }
   ],
   "source": [
    "#Using matplot librabry to visualize \n",
    "top5 = sql_df1.head(5)\n",
    "plt.barh(top5['restaurant'], top5['avg_carbs'])\n",
    "plt.title('Top 5 Restaurants by Average Carbs')\n",
    "plt.xlabel('Average Carbs')\n",
    "plt.ylabel('Restaurant')\n",
    "plt.show()"
   ]
  },
  {
   "cell_type": "markdown",
   "id": "a7552ce9",
   "metadata": {},
   "source": [
    "## Question 5"
   ]
  },
  {
   "cell_type": "code",
   "execution_count": 21,
   "id": "13c53c41",
   "metadata": {},
   "outputs": [],
   "source": [
    "#Defining a function that categorize the value in column item into 1.Main 2.Side & 3.Dessert depending on protein , total_carb & sugar value\n",
    "def categorize_food(row):\n",
    "    if \"main\" in row[\"item\"].lower()  or row[\"protein\"] > 20:\n",
    "        return \"Main\"\n",
    "    elif \"side\" in row[\"item\"].lower() or row[\"total_carb\"] > 20:\n",
    "        return \"Side\"\n",
    "    elif \"dessert\" in row[\"item\"].lower() or row[\"sugar\"] > 20:\n",
    "        return \"Dessert\"\n",
    "    else:\n",
    "        return \"Unknown\""
   ]
  },
  {
   "cell_type": "code",
   "execution_count": 22,
   "id": "9212a7b7",
   "metadata": {},
   "outputs": [
    {
     "name": "stdout",
     "output_type": "stream",
     "text": [
      "      restaurant                                       item  calories  \\\n",
      "0      Mcdonalds           Artisan Grilled Chicken Sandwich       380   \n",
      "1      Mcdonalds             Single Bacon Smokehouse Burger       840   \n",
      "2      Mcdonalds             Double Bacon Smokehouse Burger      1130   \n",
      "3      Mcdonalds  Grilled Bacon Smokehouse Chicken Sandwich       750   \n",
      "4      Mcdonalds   Crispy Bacon Smokehouse Chicken Sandwich       920   \n",
      "..           ...                                        ...       ...   \n",
      "195  Burger King                  Bacon Cheeseburger Deluxe       290   \n",
      "196  Burger King                                 Bacon King      1040   \n",
      "197  Burger King                              Bacon King Jr       730   \n",
      "198  Burger King                             BBQ Bacon King      1100   \n",
      "199  Burger King                               Cheeseburger       300   \n",
      "\n",
      "     cal_fat  total_fat  sat_fat  trans_fat  cholesterol  sodium  total_carb  \\\n",
      "0         60          7      2.0        0.0           95    1110          44   \n",
      "1        410         45     17.0        1.5          130    1580          62   \n",
      "2        600         67     27.0        3.0          220    1920          63   \n",
      "3        280         31     10.0        0.5          155    1940          62   \n",
      "4        410         45     12.0        0.5          120    1980          81   \n",
      "..       ...        ...      ...        ...          ...     ...         ...   \n",
      "195      120         14      6.0        0.5           40     720          28   \n",
      "196      630         48     28.0        2.5          220    1900          48   \n",
      "197      351         39      9.0        0.0           90    1930          63   \n",
      "198      675         75     29.0        3.0          220    1850          51   \n",
      "199      130         14      6.0        0.0           45     710          28   \n",
      "\n",
      "     fiber  sugar  protein  vit_a  vit_c  calcium  salad category  \n",
      "0      3.0     11     37.0    4.0   20.0     20.0  Other     Main  \n",
      "1      2.0     18     46.0    6.0   20.0     20.0  Other     Main  \n",
      "2      3.0     18     70.0   10.0   20.0     50.0  Other     Main  \n",
      "3      2.0     18     55.0    6.0   25.0     20.0  Other     Main  \n",
      "4      4.0     18     46.0    6.0   20.0     20.0  Other     Main  \n",
      "..     ...    ...      ...    ...    ...      ...    ...      ...  \n",
      "195    1.0      7     12.0    0.0    0.0      0.0  Other     Side  \n",
      "196    1.0     10     57.0    0.0    0.0      0.0  Other     Main  \n",
      "197    0.0     16     32.0    0.0    0.0      0.0  Other     Main  \n",
      "198    0.0     13     57.0    0.0    0.0      0.0  Other     Main  \n",
      "199    1.0      6     16.0    0.0    0.0      0.0  Other     Side  \n",
      "\n",
      "[200 rows x 18 columns]\n"
     ]
    }
   ],
   "source": [
    "#applying the function to the dataframe \n",
    "sql_df[\"category\"] = sql_df.apply(categorize_food,axis=1)\n",
    "\n",
    "# Printing the resulting dataframe with the added 'category' column\n",
    "print(sql_df.head(200))"
   ]
  },
  {
   "cell_type": "markdown",
   "id": "c8c1df9a",
   "metadata": {},
   "source": [
    "## Question 6"
   ]
  },
  {
   "cell_type": "code",
   "execution_count": 24,
   "id": "47060420",
   "metadata": {},
   "outputs": [],
   "source": [
    "#adding  sub categories into the \"Main\" Category \n",
    "def sub_categorize_food(row):\n",
    "    if \"main\" in row[\"item\"].lower()  or row[\"protein\"] > 20:\n",
    "        \n",
    "        protein_source = []\n",
    "        if \"chicken\" in row[\"item\"].lower() or \"poultry\" in row[\"item\"].lower() or \"turkey\" in row[\"item\"].lower():\n",
    "            protein_source.append(\"Chicken\")\n",
    "        if \"beef\" in row[\"item\"].lower() or \"steak\" in row[\"item\"].lower() :\n",
    "            protein_source.append(\"Beef\")\n",
    "        if \"seafood\" in row[\"item\"].lower() or \"fish\" in row[\"item\"].lower() or \"shrimp\" in row[\"item\"].lower():\n",
    "            protein_source.append(\"Seafood\")\n",
    "        if \"pork\" in row[\"item\"].lower() or \"bacon\" in row[\"item\"].lower() or \"ham\" in row[\"item\"].lower():\n",
    "            protein_source.append(\"Pork\")\n",
    "        if not protein_source:\n",
    "            protein_source.append(\"Other\")\n",
    "        return f\"Main ({', '.join(protein_source)})\"\n",
    "    elif \"side\" in row[\"item\"].lower() or row[\"total_carb\"] > 20:\n",
    "        return \"Side\"\n",
    "    elif \"dessert\" in row[\"item\"].lower() or row[\"sugar\"] > 20:\n",
    "        return \"Dessert\"\n",
    "    else:\n",
    "        return \"Unknown\""
   ]
  },
  {
   "cell_type": "code",
   "execution_count": 25,
   "id": "e416d403",
   "metadata": {},
   "outputs": [
    {
     "name": "stdout",
     "output_type": "stream",
     "text": [
      "      restaurant                                       item  calories  \\\n",
      "0      Mcdonalds           Artisan Grilled Chicken Sandwich       380   \n",
      "1      Mcdonalds             Single Bacon Smokehouse Burger       840   \n",
      "2      Mcdonalds             Double Bacon Smokehouse Burger      1130   \n",
      "3      Mcdonalds  Grilled Bacon Smokehouse Chicken Sandwich       750   \n",
      "4      Mcdonalds   Crispy Bacon Smokehouse Chicken Sandwich       920   \n",
      "..           ...                                        ...       ...   \n",
      "195  Burger King                  Bacon Cheeseburger Deluxe       290   \n",
      "196  Burger King                                 Bacon King      1040   \n",
      "197  Burger King                              Bacon King Jr       730   \n",
      "198  Burger King                             BBQ Bacon King      1100   \n",
      "199  Burger King                               Cheeseburger       300   \n",
      "\n",
      "     cal_fat  total_fat  sat_fat  trans_fat  cholesterol  sodium  total_carb  \\\n",
      "0         60          7      2.0        0.0           95    1110          44   \n",
      "1        410         45     17.0        1.5          130    1580          62   \n",
      "2        600         67     27.0        3.0          220    1920          63   \n",
      "3        280         31     10.0        0.5          155    1940          62   \n",
      "4        410         45     12.0        0.5          120    1980          81   \n",
      "..       ...        ...      ...        ...          ...     ...         ...   \n",
      "195      120         14      6.0        0.5           40     720          28   \n",
      "196      630         48     28.0        2.5          220    1900          48   \n",
      "197      351         39      9.0        0.0           90    1930          63   \n",
      "198      675         75     29.0        3.0          220    1850          51   \n",
      "199      130         14      6.0        0.0           45     710          28   \n",
      "\n",
      "     fiber  sugar  protein  vit_a  vit_c  calcium  salad              category  \n",
      "0      3.0     11     37.0    4.0   20.0     20.0  Other        Main (Chicken)  \n",
      "1      2.0     18     46.0    6.0   20.0     20.0  Other           Main (Pork)  \n",
      "2      3.0     18     70.0   10.0   20.0     50.0  Other           Main (Pork)  \n",
      "3      2.0     18     55.0    6.0   25.0     20.0  Other  Main (Chicken, Pork)  \n",
      "4      4.0     18     46.0    6.0   20.0     20.0  Other  Main (Chicken, Pork)  \n",
      "..     ...    ...      ...    ...    ...      ...    ...                   ...  \n",
      "195    1.0      7     12.0    0.0    0.0      0.0  Other                  Side  \n",
      "196    1.0     10     57.0    0.0    0.0      0.0  Other           Main (Pork)  \n",
      "197    0.0     16     32.0    0.0    0.0      0.0  Other           Main (Pork)  \n",
      "198    0.0     13     57.0    0.0    0.0      0.0  Other           Main (Pork)  \n",
      "199    1.0      6     16.0    0.0    0.0      0.0  Other                  Side  \n",
      "\n",
      "[200 rows x 18 columns]\n"
     ]
    }
   ],
   "source": [
    "#applying the function to the dataframe\n",
    "sql_df[\"category\"] = sql_df.apply(sub_categorize_food,axis=1)\n",
    "\n",
    "\n",
    "print(sql_df.head(200))"
   ]
  },
  {
   "cell_type": "markdown",
   "id": "f3bcc90b",
   "metadata": {},
   "source": [
    "## Question 7"
   ]
  },
  {
   "cell_type": "code",
   "execution_count": 27,
   "id": "be24ac1b",
   "metadata": {},
   "outputs": [],
   "source": [
    "#Saving the pandas dataframe as csv\n",
    "sql_df.to_csv('food_cats.csv', index=False)"
   ]
  },
  {
   "cell_type": "markdown",
   "id": "5f19c1c7",
   "metadata": {},
   "source": [
    "## End of NoteBook"
   ]
  }
 ],
 "metadata": {
  "kernelspec": {
   "display_name": "Python 3",
   "language": "python",
   "name": "python3"
  },
  "language_info": {
   "codemirror_mode": {
    "name": "ipython",
    "version": 3
   },
   "file_extension": ".py",
   "mimetype": "text/x-python",
   "name": "python",
   "nbconvert_exporter": "python",
   "pygments_lexer": "ipython3",
   "version": "3.8.8"
  }
 },
 "nbformat": 4,
 "nbformat_minor": 5
}
